{
 "cells": [
  {
   "cell_type": "code",
   "execution_count": null,
   "metadata": {},
   "outputs": [],
   "source": [
    "import pickle\n",
    "from collections import Counter\n",
    "\n",
    "# Load the imbalanced data\n",
    "with open('imbalanced_data.pkl', 'rb') as f:\n",
    "    imbalanced_data = pickle.load(f)\n",
    "\n",
    "# Extract labels\n",
    "labels = [label for _, label in imbalanced_data]\n",
    "\n",
    "# Count the number of instances per class\n",
    "class_counts = Counter(labels)\n",
    "\n",
    "# Print class counts\n",
    "for class_label, count in class_counts.items():\n",
    "    print(f'Class {class_label} has {count} instances')\n",
    "\n",
    "# Print total number of classes\n",
    "print(f'Total number of classes: {len(class_counts)}')\n",
    "\n"
   ]
  },
  {
   "cell_type": "code",
   "execution_count": null,
   "metadata": {},
   "outputs": [],
   "source": [
    "# Plot example images from each class\n",
    "\n",
    "import matplotlib.pyplot as plt\n",
    "\n",
    "# Define class names\n",
    "\n",
    "class_names = ['plane', 'car', 'bird', 'cat', 'deer', 'dog', 'frog', 'horse', 'ship', 'truck']\n",
    "\n",
    "# Define figure size\n",
    "plt.figure(figsize=(10, 10))\n",
    "\n",
    "# Load the imbalanced data\n",
    "with open('imbalanced_data.pkl', 'rb') as f:\n",
    "    imbalanced_data = pickle.load(f)\n",
    "\n",
    "# Extract images and labels\n",
    "images, labels = zip(*imbalanced_data)\n",
    "\n",
    "# plot example of each images\n",
    "idx = [0, 500, 1000, 1500, 2000, 2500, 3000, 3500, 4000, 4500]\n",
    "for id in idx:\n",
    "    plt.subplot(5, 2, idx.index(id) + 1)\n",
    "    plt.imshow(images[id])\n",
    "    plt.title(class_names[labels[id]])\n",
    "    plt.axis('off')\n",
    "    "
   ]
  },
  {
   "cell_type": "code",
   "execution_count": 20,
   "metadata": {},
   "outputs": [
    {
     "name": "stdout",
     "output_type": "stream",
     "text": [
      "(10000, 32, 32, 3)\n",
      "(10000,)\n"
     ]
    }
   ],
   "source": [
    "# This is an example of how to load test_data, run your model on test_data and generate an output file.\n",
    "\n",
    "import torch\n",
    "import pickle\n",
    "# Output required\n",
    "# At the end of the challenge you will have to submit your code along with the classes associated with the test_data.pkl\n",
    "# Your model should infere on test_data.pkl and output a list of [10000](number of example in test_data) integers that reflect the classes of the test_data guessed by your model\n",
    "# Here is a dummy example :\n",
    "\n",
    "with open('test_data.pkl', 'rb') as f:\n",
    "    test_data = pickle.load(f)\n",
    "\n",
    "# dummy model that return random class for each data\n",
    "dummy_model = lambda x:torch.randint(0,9,(len(x),))\n",
    "\n",
    "# Example of how to generate output and save it to a pkl file\n",
    "predicted_labels = dummy_model(test_data).numpy()\n",
    "with open(\"output.pkl\", \"wb\") as f:\n",
    "    pickle.dump(predicted_labels, f)\n",
    "    \n",
    "# When done, you will need to send \"output.pkl\" for verification.\n"
   ]
  }
 ],
 "metadata": {
  "kernelspec": {
   "display_name": "Python 3",
   "language": "python",
   "name": "python3"
  },
  "language_info": {
   "codemirror_mode": {
    "name": "ipython",
    "version": 3
   },
   "file_extension": ".py",
   "mimetype": "text/x-python",
   "name": "python",
   "nbconvert_exporter": "python",
   "pygments_lexer": "ipython3",
   "version": "3.9.13"
  }
 },
 "nbformat": 4,
 "nbformat_minor": 2
}
